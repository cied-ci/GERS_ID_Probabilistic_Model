{
  "nbformat": 4,
  "nbformat_minor": 0,
  "metadata": {
    "colab": {
      "provenance": []
    },
    "kernelspec": {
      "name": "python3",
      "display_name": "Python 3"
    },
    "language_info": {
      "name": "python"
    }
  },
  "cells": [
    {
      "cell_type": "markdown",
      "source": [
        "This Python notebook takes a subset of POIs in Downtown Santa Cruz, and moves each one to the closest building."
      ],
      "metadata": {
        "id": "UxF9Qv8XAz66"
      }
    },
    {
      "cell_type": "code",
      "execution_count": null,
      "metadata": {
        "id": "by5750zB7EJe"
      },
      "outputs": [],
      "source": [
        "!pip install pandas --quiet\n",
        "!pip install geopandas --quiet\n",
        "!pip install shapely --quiet\n",
        "!pip install duckdb --quiet\n",
        "!pip install jupysql --quiet\n",
        "!pip install duckdb-engine --quiet\n",
        "!pip install folium matplotlib mapclassify --quiet"
      ]
    },
    {
      "cell_type": "code",
      "source": [
        "import pandas as pd\n",
        "import geopandas as gpd\n",
        "import duckdb\n",
        "from shapely import wkt\n",
        "from shapely import Point\n",
        "from shapely.ops import nearest_points\n",
        "import shapely"
      ],
      "metadata": {
        "id": "hL9AMIPz8dkz"
      },
      "execution_count": null,
      "outputs": []
    },
    {
      "cell_type": "code",
      "source": [
        "%reload_ext sql"
      ],
      "metadata": {
        "id": "Jwl2i6tiAlaw"
      },
      "execution_count": null,
      "outputs": []
    },
    {
      "cell_type": "code",
      "source": [
        "%sql duckdb://"
      ],
      "metadata": {
        "id": "h4cufHB-ArRM"
      },
      "execution_count": null,
      "outputs": []
    },
    {
      "cell_type": "code",
      "source": [
        "%sql INSTALL spatial;\n",
        "%sql INSTALL httpfs;\n",
        "%sql LOAD spatial;\n",
        "%sql LOAD httpfs;\n",
        "%sql SET s3_region='us-west-2'"
      ],
      "metadata": {
        "id": "AhBUl0AgBhdY"
      },
      "execution_count": null,
      "outputs": []
    },
    {
      "cell_type": "code",
      "source": [
        "%config SqlMagic.autopandas = True\n",
        "%config SqlMagic.feedback = False\n",
        "%config SqlMagic.displaycon = False"
      ],
      "metadata": {
        "id": "5e955G2GRABP"
      },
      "execution_count": null,
      "outputs": []
    },
    {
      "cell_type": "code",
      "source": [
        "%%sql places <<\n",
        "SELECT\n",
        "    id,\n",
        "    names.primary as name,\n",
        "    ST_AsText(geometry) as geometry\n",
        "FROM\n",
        "    read_parquet('s3://overturemaps-us-west-2/release/2025-04-23.0/theme=places/type=place/*')\n",
        "WHERE\n",
        "    bbox.xmin BETWEEN -122.027879 AND -122.024587 AND\n",
        "    bbox.ymin BETWEEN 36.970389 AND 36.978416"
      ],
      "metadata": {
        "id": "YFHMYEdr799F"
      },
      "execution_count": null,
      "outputs": []
    },
    {
      "cell_type": "code",
      "source": [
        "places = gpd.GeoDataFrame(\n",
        "    places,\n",
        "    geometry=places['geometry'].apply(wkt.loads),\n",
        "    crs=\"EPSG:4326\"\n",
        ")"
      ],
      "metadata": {
        "id": "efRfkR1bD1US"
      },
      "execution_count": null,
      "outputs": []
    },
    {
      "cell_type": "code",
      "source": [
        "%%sql buildings <<\n",
        "SELECT\n",
        "    ST_AsText(geometry) as geometry\n",
        "FROM\n",
        "    read_parquet('s3://overturemaps-us-west-2/release/2025-04-23.0/theme=buildings/type=building/*')\n",
        "WHERE\n",
        "    bbox.xmin BETWEEN -122.03 AND -122.02 AND\n",
        "    bbox.ymin BETWEEN 36.97 AND 36.98"
      ],
      "metadata": {
        "id": "vDqnL6MRKsHY"
      },
      "execution_count": null,
      "outputs": []
    },
    {
      "cell_type": "code",
      "source": [
        "buildings = gpd.GeoDataFrame(\n",
        "    buildings,\n",
        "    geometry=buildings['geometry'].apply(wkt.loads),\n",
        "    crs=\"EPSG:4326\"\n",
        ")"
      ],
      "metadata": {
        "id": "ctAO0IAh8Qk8"
      },
      "execution_count": null,
      "outputs": []
    },
    {
      "cell_type": "code",
      "source": [
        "places_updated = places.copy()\n",
        "\n",
        "for i in range(len(places['geometry'])):\n",
        "    cur_point = places['geometry'][i]\n",
        "    min_distance = 10000000000000\n",
        "    min_index = -1\n",
        "    for j in range(len(buildings['geometry'])):\n",
        "        cur_building = buildings['geometry'][j]\n",
        "        if shapely.distance(cur_building, cur_point) < min_distance:\n",
        "            min_distance = shapely.distance(cur_building, cur_point)\n",
        "            min_index = j\n",
        "    if min_index != -1:\n",
        "        places_updated.at[i, 'geometry'] = nearest_points(buildings['geometry'][min_index], cur_point)[0]"
      ],
      "metadata": {
        "id": "BNfIQRawSR5t"
      },
      "execution_count": null,
      "outputs": []
    },
    {
      "cell_type": "code",
      "source": [
        "# Visualize the data\n",
        "\n",
        "m = buildings.explore()\n",
        "\n",
        "places.explore(m=m, color=\"red\")\n",
        "places_updated.explore(m=m, color=\"green\")\n",
        "\n",
        "m"
      ],
      "metadata": {
        "id": "3YmyuMjS9SDD"
      },
      "execution_count": null,
      "outputs": []
    }
  ]
}