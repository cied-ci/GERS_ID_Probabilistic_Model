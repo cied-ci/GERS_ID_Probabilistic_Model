{
  "cells": [
    {
      "cell_type": "markdown",
      "metadata": {
        "id": "UxF9Qv8XAz66"
      },
      "source": [
        "This Python notebook takes a subset of POIs in Downtown Santa Cruz, and moves each one to the closest building. The data will be saved to disk as csv and parquet files."
      ]
    },
    {
      "cell_type": "code",
      "execution_count": null,
      "metadata": {
        "id": "by5750zB7EJe"
      },
      "outputs": [],
      "source": [
        "!pip install pandas --quiet\n",
        "!pip install geopandas --quiet\n",
        "!pip install shapely --quiet\n",
        "!pip install duckdb --quiet\n",
        "!pip install jupysql --quiet\n",
        "!pip install duckdb-engine --quiet\n",
        "!pip install folium matplotlib mapclassify --quiet"
      ]
    },
    {
      "cell_type": "code",
      "execution_count": null,
      "metadata": {
        "id": "hL9AMIPz8dkz"
      },
      "outputs": [],
      "source": [
        "import pandas as pd\n",
        "import geopandas as gpd\n",
        "import duckdb\n",
        "from shapely import wkt\n",
        "from shapely import Point\n",
        "from shapely.ops import nearest_points\n",
        "from shapely.ops import transform\n",
        "import shapely\n",
        "from pyproj import Transformer"
      ]
    },
    {
      "cell_type": "code",
      "execution_count": null,
      "metadata": {
        "id": "Jwl2i6tiAlaw"
      },
      "outputs": [],
      "source": [
        "%reload_ext sql"
      ]
    },
    {
      "cell_type": "code",
      "execution_count": null,
      "metadata": {
        "id": "h4cufHB-ArRM"
      },
      "outputs": [],
      "source": [
        "%sql duckdb://"
      ]
    },
    {
      "cell_type": "code",
      "execution_count": null,
      "metadata": {
        "id": "AhBUl0AgBhdY"
      },
      "outputs": [],
      "source": [
        "%sql INSTALL spatial;\n",
        "%sql INSTALL httpfs;\n",
        "%sql LOAD spatial;\n",
        "%sql LOAD httpfs;\n",
        "%sql SET s3_region='us-west-2'"
      ]
    },
    {
      "cell_type": "code",
      "execution_count": null,
      "metadata": {
        "id": "5e955G2GRABP"
      },
      "outputs": [],
      "source": [
        "%config SqlMagic.autopandas = True\n",
        "%config SqlMagic.feedback = False\n",
        "%config SqlMagic.displaycon = False"
      ]
    },
    {
      "cell_type": "code",
      "source": [
        "%%sql\n",
        "COPY(\n",
        "WITH places AS (\n",
        "    SELECT\n",
        "        id,\n",
        "        names.primary as name,\n",
        "        geometry\n",
        "    FROM\n",
        "        read_parquet('s3://overturemaps-us-west-2/release/2025-04-23.0/theme=places/type=place/*')\n",
        "    WHERE\n",
        "        bbox.xmin BETWEEN -122.077563 AND -121.932679 AND\n",
        "        bbox.ymin BETWEEN 36.945596 AND 37.007650\n",
        "),\n",
        "buildings AS (\n",
        "    SELECT\n",
        "        geometry,\n",
        "        bbox.xmin as xmin,\n",
        "        bbox.ymin as ymin\n",
        "    FROM\n",
        "        read_parquet('s3://overturemaps-us-west-2/release/2025-04-23.0/theme=buildings/type=building/*')\n",
        "    WHERE\n",
        "        bbox.xmin BETWEEN -122.09 AND -121.91 AND\n",
        "        bbox.ymin BETWEEN 36.93 AND 37.02\n",
        ")\n",
        "SELECT\n",
        "    places.id,\n",
        "    places.name,\n",
        "    places.geometry,\n",
        "    buildings.geometry\n",
        "FROM places\n",
        "    LEFT JOIN buildings ON st_intersects(\n",
        "        st_buffer(places.geometry::geometry, 0.004),\n",
        "        st_point(buildings.xmin, buildings.ymin)\n",
        "    )\n",
        ") TO 'place_buildings.parquet'"
      ],
      "metadata": {
        "id": "lmxw-uXSonOa"
      },
      "execution_count": null,
      "outputs": []
    },
    {
      "cell_type": "code",
      "source": [
        "%%sql\n",
        "COPY(\n",
        "WITH places AS (\n",
        "    SELECT\n",
        "        id,\n",
        "        names.primary as name,\n",
        "        geometry\n",
        "    FROM\n",
        "        read_parquet('s3://overturemaps-us-west-2/release/2025-04-23.0/theme=places/type=place/*')\n",
        "    WHERE\n",
        "        bbox.xmin BETWEEN -122.077563 AND -121.932679 AND\n",
        "        bbox.ymin BETWEEN 36.945596 AND 37.007650\n",
        "),\n",
        "roads AS (\n",
        "    SELECT\n",
        "        geometry,\n",
        "        class,\n",
        "        bbox.xmin as xmin,\n",
        "        bbox.ymin as ymin\n",
        "    FROM\n",
        "        read_parquet('s3://overturemaps-us-west-2/release/2025-04-23.0/theme=transportation/type=segment/*')\n",
        "    WHERE\n",
        "        bbox.xmin BETWEEN -122.09 AND -121.91 AND\n",
        "        bbox.ymin BETWEEN 36.93 AND 37.02 AND (subtype = 'road')\n",
        ")\n",
        "SELECT\n",
        "    places.id,\n",
        "    roads.geometry,\n",
        "    roads.class\n",
        "FROM places\n",
        "    LEFT JOIN roads ON st_intersects(\n",
        "        st_buffer(places.geometry::geometry, 0.003),\n",
        "        st_point(roads.xmin, roads.ymin)\n",
        "    )\n",
        ") TO 'place_roads.parquet'"
      ],
      "metadata": {
        "id": "bzp_RPe80hFU"
      },
      "execution_count": null,
      "outputs": []
    },
    {
      "cell_type": "code",
      "source": [
        "# Save dataframe as a list of places, where each place has a list of nearby buildings\n",
        "places_buildings = gpd.read_parquet(path='place_buildings.parquet')\n",
        "\n",
        "places_buildings = places_buildings.groupby('id', as_index=False).agg({\n",
        "    'name': 'first',\n",
        "    'geometry': 'first',\n",
        "    'geometry_1': list\n",
        "})"
      ],
      "metadata": {
        "id": "lJKHsAmsd8iy"
      },
      "execution_count": null,
      "outputs": []
    },
    {
      "cell_type": "code",
      "source": [
        "# Save dataframe as a list of places, where each place has a list of nearby roads\n",
        "places_roads = gpd.read_parquet(path='place_roads.parquet')\n",
        "\n",
        "places_roads = places_roads.groupby('id', as_index=False).agg({\n",
        "    'geometry': list,\n",
        "    'class': list\n",
        "})"
      ],
      "metadata": {
        "id": "OoMYmVhGUq5g"
      },
      "execution_count": null,
      "outputs": []
    },
    {
      "cell_type": "code",
      "source": [
        "places_buildings_roads = pd.merge(places_buildings, places_roads, on='id', how='inner')\n",
        "places_buildings_roads['crossed'] = [[] for _ in range(len(places_buildings_roads))]\n",
        "places_buildings_roads['snapped'] = places_buildings_roads['geometry_x']"
      ],
      "metadata": {
        "id": "9eu3NbmXiD6v"
      },
      "execution_count": null,
      "outputs": []
    },
    {
      "cell_type": "code",
      "source": [
        "# Convert to a coordinate system that represents distance in meters\n",
        "transformer = Transformer.from_crs(\"EPSG:4326\", \"EPSG:3857\", always_xy=True)\n",
        "transform_back = Transformer.from_crs(\"EPSG:3857\", \"EPSG:4326\", always_xy=True)\n",
        "for i in range(len(places_buildings_roads)):\n",
        "    cur_point = transform(transformer.transform, places_buildings_roads['geometry_x'][i])\n",
        "    min_distance = 10000000000000\n",
        "    min_index = -1\n",
        "    if places_buildings_roads['geometry_1'][i][0] == None:\n",
        "        continue\n",
        "    for j in range(len(places_buildings_roads['geometry_1'][i])):\n",
        "        cur_building = transform(transformer.transform, places_buildings_roads['geometry_1'][i][j])\n",
        "        # Check if current building is closer than closest building so far\n",
        "        if shapely.distance(cur_building, cur_point) < min_distance:\n",
        "            min_distance = shapely.distance(cur_building, cur_point)\n",
        "            min_index = j\n",
        "    if min_index != -1:\n",
        "        # Move point to closest point on closest building\n",
        "        places_buildings_roads.loc[i, 'snapped'] = transform(transform_back.transform, nearest_points(transform(transformer.transform, places_buildings_roads['geometry_1'][i][min_index]), cur_point)[0])\n",
        "        old_to_new_line = shapely.LineString([places_buildings_roads['geometry_x'][i], places_buildings_roads['snapped'][i]])\n",
        "        # Check roads that the move crosses\n",
        "        if places_buildings_roads['class'][i][0] != None:\n",
        "            for m in range(len(places_buildings_roads['class'][i])):\n",
        "                if shapely.intersects(places_buildings_roads['geometry_y'][i][m], old_to_new_line):\n",
        "                    places_buildings_roads.at[i, 'crossed'].append(places_buildings_roads['class'][i][m])\n"
      ],
      "metadata": {
        "id": "tIW0sfoeuamB"
      },
      "execution_count": null,
      "outputs": []
    },
    {
      "cell_type": "code",
      "execution_count": null,
      "metadata": {
        "id": "efRfkR1bD1US"
      },
      "outputs": [],
      "source": [
        "# Convert places data to GeoFrame for getting places in Point format\n",
        "places_buildings1 = gpd.GeoDataFrame(\n",
        "    places_buildings_roads.drop(['geometry_1', 'snapped', 'crossed', 'geometry_y', 'class'], axis=1),\n",
        "    geometry=places_buildings_roads['geometry_x'],\n",
        "    crs=\"EPSG:4326\"\n",
        ")\n",
        "\n",
        "places_buildings2 = gpd.GeoDataFrame(\n",
        "    places_buildings_roads.drop(['geometry_1', 'geometry_x', 'crossed', 'geometry_y', 'class'], axis=1),\n",
        "    geometry=places_buildings_roads['snapped'],\n",
        "    crs=\"EPSG:4326\"\n",
        ")"
      ]
    },
    {
      "cell_type": "code",
      "source": [
        "%%sql buildings <<\n",
        "SELECT\n",
        "    ST_AsText(geometry) as geometry\n",
        "FROM\n",
        "    read_parquet('s3://overturemaps-us-west-2/release/2025-04-23.0/theme=buildings/type=building/*')\n",
        "WHERE\n",
        "    bbox.xmin BETWEEN -122.09 AND -121.91 AND\n",
        "    bbox.ymin BETWEEN 36.93 AND 37.02"
      ],
      "metadata": {
        "id": "PeObCQtLGopV"
      },
      "execution_count": null,
      "outputs": []
    },
    {
      "cell_type": "code",
      "source": [
        "# Convert buildings data to GeoFrame for working directly with building Polygons\n",
        "buildings = gpd.GeoDataFrame(\n",
        "    buildings,\n",
        "    geometry=buildings['geometry'].apply(wkt.loads),\n",
        "    crs=\"EPSG:4326\"\n",
        ")"
      ],
      "metadata": {
        "id": "HbMCnkJ9GrF1"
      },
      "execution_count": null,
      "outputs": []
    },
    {
      "cell_type": "code",
      "execution_count": null,
      "metadata": {
        "id": "3YmyuMjS9SDD"
      },
      "outputs": [],
      "source": [
        "# Visualize the data, old location is in red, new location is in green\n",
        "\n",
        "m = buildings.explore()\n",
        "\n",
        "places_buildings1.explore(m=m, color=\"red\")\n",
        "places_buildings2.explore(m=m, color=\"green\")\n",
        "\n",
        "m"
      ]
    },
    {
      "cell_type": "code",
      "source": [
        "places_buildings_roads = places_buildings_roads.drop(['geometry_1', 'geometry_y', 'class'], axis=1)\n",
        "places_buildings_roads['geometry'] = places_buildings_roads['geometry_x'].apply(wkt.dumps)\n",
        "places_buildings_roads['geometry_updated'] = places_buildings_roads['snapped'].apply(wkt.dumps)\n",
        "places_buildings_roads = places_buildings_roads.drop(['geometry_x', 'snapped'], axis=1)"
      ],
      "metadata": {
        "id": "lGY-p4mn9TB0"
      },
      "execution_count": null,
      "outputs": []
    },
    {
      "cell_type": "code",
      "source": [
        "# Take the dataframes and save it\n",
        "places_buildings_roads.to_parquet(path='santa_cruz_places_building_snap.parquet')\n",
        "places_buildings_roads.to_csv(path_or_buf='santa_cruz_places_building_snap.csv')"
      ],
      "metadata": {
        "id": "E4n4Sc6d0o6r"
      },
      "execution_count": null,
      "outputs": []
    }
  ],
  "metadata": {
    "colab": {
      "provenance": []
    },
    "kernelspec": {
      "display_name": "Python 3",
      "name": "python3"
    },
    "language_info": {
      "name": "python"
    }
  },
  "nbformat": 4,
  "nbformat_minor": 0
}