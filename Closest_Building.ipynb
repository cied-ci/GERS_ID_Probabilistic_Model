{
  "cells": [
    {
      "cell_type": "markdown",
      "metadata": {
        "id": "UxF9Qv8XAz66"
      },
      "source": [
        "This Python notebook takes a subset of POIs in Downtown Santa Cruz, and moves each one to the closest building. The data will be saved to disk as csv and parquet files."
      ]
    },
    {
      "cell_type": "code",
      "execution_count": null,
      "metadata": {
        "id": "by5750zB7EJe"
      },
      "outputs": [],
      "source": [
        "!pip install pandas --quiet\n",
        "!pip install geopandas --quiet\n",
        "!pip install shapely --quiet\n",
        "!pip install duckdb --quiet\n",
        "!pip install jupysql --quiet\n",
        "!pip install duckdb-engine --quiet\n",
        "!pip install folium matplotlib mapclassify --quiet"
      ]
    },
    {
      "cell_type": "code",
      "execution_count": null,
      "metadata": {
        "id": "hL9AMIPz8dkz"
      },
      "outputs": [],
      "source": [
        "import pandas as pd\n",
        "import geopandas as gpd\n",
        "import duckdb\n",
        "from shapely import wkt\n",
        "from shapely import Point\n",
        "from shapely.ops import nearest_points\n",
        "import shapely"
      ]
    },
    {
      "cell_type": "code",
      "execution_count": null,
      "metadata": {
        "id": "Jwl2i6tiAlaw"
      },
      "outputs": [],
      "source": [
        "%reload_ext sql"
      ]
    },
    {
      "cell_type": "code",
      "execution_count": null,
      "metadata": {
        "id": "h4cufHB-ArRM"
      },
      "outputs": [],
      "source": [
        "%sql duckdb://"
      ]
    },
    {
      "cell_type": "code",
      "execution_count": null,
      "metadata": {
        "id": "AhBUl0AgBhdY"
      },
      "outputs": [],
      "source": [
        "%sql INSTALL spatial;\n",
        "%sql INSTALL httpfs;\n",
        "%sql LOAD spatial;\n",
        "%sql LOAD httpfs;\n",
        "%sql SET s3_region='us-west-2'"
      ]
    },
    {
      "cell_type": "code",
      "execution_count": null,
      "metadata": {
        "id": "5e955G2GRABP"
      },
      "outputs": [],
      "source": [
        "%config SqlMagic.autopandas = True\n",
        "%config SqlMagic.feedback = False\n",
        "%config SqlMagic.displaycon = False"
      ]
    },
    {
      "cell_type": "code",
      "execution_count": null,
      "metadata": {
        "id": "YFHMYEdr799F"
      },
      "outputs": [],
      "source": [
        "%%sql places <<\n",
        "SELECT\n",
        "    id,\n",
        "    names.primary as name,\n",
        "    ST_AsText(geometry) as geometry\n",
        "FROM\n",
        "    read_parquet('s3://overturemaps-us-west-2/release/2025-04-23.0/theme=places/type=place/*')\n",
        "WHERE\n",
        "    bbox.xmin BETWEEN -122.040349 AND -121.980759 AND\n",
        "    bbox.ymin BETWEEN 36.954478 AND 36.989323"
      ]
    },
    {
      "cell_type": "code",
      "execution_count": null,
      "metadata": {
        "id": "efRfkR1bD1US"
      },
      "outputs": [],
      "source": [
        "# Convert places data to GeoFrame for getting places in Point format\n",
        "places = gpd.GeoDataFrame(\n",
        "    places,\n",
        "    geometry=places['geometry'].apply(wkt.loads),\n",
        "    crs=\"EPSG:4326\"\n",
        ")"
      ]
    },
    {
      "cell_type": "code",
      "execution_count": null,
      "metadata": {
        "id": "vDqnL6MRKsHY"
      },
      "outputs": [],
      "source": [
        "%%sql buildings <<\n",
        "SELECT\n",
        "    ST_AsText(geometry) as geometry\n",
        "FROM\n",
        "    read_parquet('s3://overturemaps-us-west-2/release/2025-04-23.0/theme=buildings/type=building/*')\n",
        "WHERE\n",
        "    bbox.xmin BETWEEN -122.042 AND -121.978 AND\n",
        "    bbox.ymin BETWEEN 36.952 AND 36.991"
      ]
    },
    {
      "cell_type": "code",
      "execution_count": null,
      "metadata": {
        "id": "ctAO0IAh8Qk8"
      },
      "outputs": [],
      "source": [
        "# Convert buildings data to GeoFrame for working directly with building Polygons\n",
        "buildings = gpd.GeoDataFrame(\n",
        "    buildings,\n",
        "    geometry=buildings['geometry'].apply(wkt.loads),\n",
        "    crs=\"EPSG:4326\"\n",
        ")"
      ]
    },
    {
      "cell_type": "code",
      "execution_count": null,
      "metadata": {
        "id": "BNfIQRawSR5t"
      },
      "outputs": [],
      "source": [
        "# Make copy for updated locations\n",
        "places_updated = places.copy()\n",
        "\n",
        "for i in range(len(places['geometry'])):\n",
        "    cur_point = places['geometry'][i]\n",
        "    min_distance = 10000000000000\n",
        "    min_index = -1\n",
        "    for j in range(len(buildings['geometry'])):\n",
        "        cur_building = buildings['geometry'][j]\n",
        "        # Check if current building is closer than closest building so far\n",
        "        if shapely.distance(cur_building, cur_point) < min_distance:\n",
        "            min_distance = shapely.distance(cur_building, cur_point)\n",
        "            min_index = j\n",
        "    if min_index != -1:\n",
        "        # Move point to closest point on closest building\n",
        "        places_updated.at[i, 'geometry'] = nearest_points(buildings['geometry'][min_index], cur_point)[0]"
      ]
    },
    {
      "cell_type": "code",
      "execution_count": null,
      "metadata": {
        "id": "3YmyuMjS9SDD"
      },
      "outputs": [],
      "source": [
        "# Visualize the data, old location is in red, new location is in green\n",
        "\n",
        "m = buildings.explore()\n",
        "\n",
        "places.explore(m=m, color=\"red\")\n",
        "places_updated.explore(m=m, color=\"green\")\n",
        "\n",
        "m"
      ]
    },
    {
      "cell_type": "code",
      "source": [
        "# Merge the dataframes and save it\n",
        "places['geometry_updated'] = places_updated['geometry']\n",
        "\n",
        "places.to_parquet(path='santa_cruz_places_building_snap.parquet')\n",
        "places.to_csv(path_or_buf='santa_cruz_places_building_snap.csv')"
      ],
      "metadata": {
        "id": "E4n4Sc6d0o6r"
      },
      "execution_count": null,
      "outputs": []
    }
  ],
  "metadata": {
    "colab": {
      "provenance": []
    },
    "kernelspec": {
      "display_name": "Python 3",
      "name": "python3"
    },
    "language_info": {
      "name": "python"
    }
  },
  "nbformat": 4,
  "nbformat_minor": 0
}