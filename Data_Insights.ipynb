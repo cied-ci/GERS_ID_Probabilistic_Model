{
  "nbformat": 4,
  "nbformat_minor": 0,
  "metadata": {
    "colab": {
      "provenance": []
    },
    "kernelspec": {
      "name": "python3",
      "display_name": "Python 3"
    },
    "language_info": {
      "name": "python"
    }
  },
  "cells": [
    {
      "cell_type": "code",
      "execution_count": null,
      "metadata": {
        "id": "VDMSqZmGXdyn"
      },
      "outputs": [],
      "source": [
        "!pip install pandas --quiet\n",
        "!pip install geopandas --quiet\n",
        "!pip install shapely --quiet"
      ]
    },
    {
      "cell_type": "code",
      "source": [
        "import pandas as pd\n",
        "import geopandas as gpd\n",
        "from shapely import wkt\n",
        "import math"
      ],
      "metadata": {
        "id": "D6KG0BYbdQVg"
      },
      "execution_count": null,
      "outputs": []
    },
    {
      "cell_type": "code",
      "source": [
        "merged_data = pd.read_parquet(path='merged_data.parquet')"
      ],
      "metadata": {
        "id": "3NO4qR6odXQw"
      },
      "execution_count": null,
      "outputs": []
    },
    {
      "cell_type": "code",
      "source": [
        "convert_columns = ['original_coord', 'snapped_coord', 'osm_coord']\n",
        "for col in convert_columns:\n",
        "    merged_data[col] = merged_data[col].apply(wkt.loads)"
      ],
      "metadata": {
        "id": "vAGmKYbQUqJ1"
      },
      "execution_count": null,
      "outputs": []
    },
    {
      "cell_type": "code",
      "source": [
        "# Following function provided by Jens Goossens\n",
        "def expScore(distanceInMeters, maxDistanceCutOff, lambda_arg):\n",
        "  if distanceInMeters <= 0:\n",
        "    return 1.0\n",
        "  if distanceInMeters >= maxDistanceCutOff:\n",
        "    return 0.0\n",
        "  u = distanceInMeters / maxDistanceCutOff\n",
        "  eNegLambda = math.exp(-lambda_arg)\n",
        "  eNegLambdaU = math.exp(-lambda_arg * u)\n",
        "  return (eNegLambdaU - eNegLambda) / (1.0 - eNegLambda)"
      ],
      "metadata": {
        "id": "Lx2Bt7tji4F3"
      },
      "execution_count": null,
      "outputs": []
    },
    {
      "cell_type": "code",
      "source": [
        "all_snap = gpd.GeoDataFrame(merged_data, geometry='snapped_coord', crs=\"EPSG:4326\")\n",
        "all_snap['old_score'] = all_snap.old_dist.apply(lambda x: expScore(x, 250, 4))"
      ],
      "metadata": {
        "id": "ofxfDZZfWXVk"
      },
      "execution_count": null,
      "outputs": []
    },
    {
      "cell_type": "code",
      "source": [
        "selective_snap = all_snap.copy(deep=True)"
      ],
      "metadata": {
        "id": "bDrmWhSMZIXR"
      },
      "execution_count": null,
      "outputs": []
    },
    {
      "cell_type": "code",
      "source": [
        "# Do not snap for the following categories (i.e. set snapped values to original values)\n",
        "categories_to_exclude = ['farm', 'lake', 'park', 'field', 'campground', 'river']\n",
        "selective_snap['snapped_coord'] = selective_snap.apply(lambda x: x['original_coord'] if any(cat in x['category'] for cat in categories_to_exclude) else x['snapped_coord'], axis=1)\n",
        "selective_snap['new_dist'] = selective_snap.apply(lambda x: x['old_dist'] if any(cat in x['category'] for cat in categories_to_exclude) else x['new_dist'], axis=1)"
      ],
      "metadata": {
        "id": "Dp8ZqV6WZtr1"
      },
      "execution_count": null,
      "outputs": []
    },
    {
      "cell_type": "code",
      "source": [
        "selective_snap['new_score'] = selective_snap.new_dist.apply(lambda x: expScore(x, 250, 4))\n",
        "all_snap['new_score'] = all_snap.new_dist.apply(lambda x: expScore(x, 250, 4))"
      ],
      "metadata": {
        "id": "im8lr6Uij8QY"
      },
      "execution_count": null,
      "outputs": []
    },
    {
      "cell_type": "code",
      "source": [
        "all_snap['log_ratio'] = all_snap.apply(lambda x: math.log((x['new_dist'] + 1) / (x['old_dist'] + 1)), axis=1)\n",
        "selective_snap['log_ratio'] = selective_snap.apply(lambda x: math.log((x['new_dist'] + 1) / (x['old_dist'] + 1)), axis=1)"
      ],
      "metadata": {
        "id": "_33D05A9c96D"
      },
      "execution_count": null,
      "outputs": []
    },
    {
      "cell_type": "code",
      "source": [
        "all_snap['percent_change'] = all_snap.apply(lambda x: (x['new_dist'] - x['old_dist']) / (x['old_dist'] + 1), axis=1)\n",
        "selective_snap['percent_change'] = selective_snap.apply(lambda x: (x['new_dist'] - x['old_dist']) / (x['old_dist'] + 1), axis=1)"
      ],
      "metadata": {
        "id": "BpEpIGZ9Eaf5"
      },
      "execution_count": null,
      "outputs": []
    },
    {
      "cell_type": "code",
      "source": [
        "# Basic average difference (lower is better)\n",
        "print(all_snap['new_dist'].mean() - all_snap['old_dist'].mean())\n",
        "print(selective_snap['new_dist'].mean() - all_snap['old_dist'].mean())"
      ],
      "metadata": {
        "id": "1pfcvHropxm4"
      },
      "execution_count": null,
      "outputs": []
    },
    {
      "cell_type": "code",
      "source": [
        "# Percent change on average (lower is better)\n",
        "print(all_snap['percent_change'].mean())\n",
        "print(selective_snap['percent_change'].mean())"
      ],
      "metadata": {
        "id": "JifWwNNDFbuy"
      },
      "execution_count": null,
      "outputs": []
    },
    {
      "cell_type": "code",
      "source": [
        "# Average log_ratio, or log of geometric mean of ratios (lower is better)\n",
        "print(all_snap['log_ratio'].mean())\n",
        "print(selective_snap['log_ratio'].mean())"
      ],
      "metadata": {
        "id": "I4WgDo6gdVNE"
      },
      "execution_count": null,
      "outputs": []
    },
    {
      "cell_type": "code",
      "source": [
        "# 0-1 accuracy metric (higher is better)\n",
        "print(all_snap['old_score'].mean())\n",
        "print(all_snap['new_score'].mean())\n",
        "print(selective_snap['new_score'].mean())"
      ],
      "metadata": {
        "id": "UE-1l4yzjqCx"
      },
      "execution_count": null,
      "outputs": []
    }
  ]
}