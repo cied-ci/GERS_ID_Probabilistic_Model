{
  "nbformat": 4,
  "nbformat_minor": 0,
  "metadata": {
    "colab": {
      "provenance": []
    },
    "kernelspec": {
      "name": "python3",
      "display_name": "Python 3"
    },
    "language_info": {
      "name": "python"
    }
  },
  "cells": [
    {
      "cell_type": "code",
      "execution_count": null,
      "metadata": {
        "id": "VDMSqZmGXdyn"
      },
      "outputs": [],
      "source": [
        "!pip install pandas --quiet\n",
        "!pip install geopandas --quiet\n",
        "!pip install shapely --quiet\n",
        "!pip install duckdb --quiet\n",
        "!pip install jupysql --quiet\n",
        "!pip install duckdb-engine --quiet\n",
        "!pip install folium matplotlib mapclassify --quiet"
      ]
    },
    {
      "cell_type": "code",
      "source": [
        "import pandas as pd\n",
        "import geopandas as gpd\n",
        "import duckdb\n",
        "from shapely import wkt\n",
        "from shapely import Point\n",
        "from shapely.ops import nearest_points\n",
        "import shapely"
      ],
      "metadata": {
        "id": "D6KG0BYbdQVg"
      },
      "execution_count": null,
      "outputs": []
    },
    {
      "cell_type": "code",
      "source": [
        "%reload_ext sql"
      ],
      "metadata": {
        "id": "DQuRtIQidSND"
      },
      "execution_count": null,
      "outputs": []
    },
    {
      "cell_type": "code",
      "source": [
        "%sql duckdb://"
      ],
      "metadata": {
        "id": "5O9PzoZHdSps"
      },
      "execution_count": null,
      "outputs": []
    },
    {
      "cell_type": "code",
      "source": [
        "%sql INSTALL spatial;\n",
        "%sql INSTALL httpfs;\n",
        "%sql LOAD spatial;\n",
        "%sql LOAD httpfs;\n",
        "%sql SET s3_region='us-west-2'"
      ],
      "metadata": {
        "id": "yJbLselOdUCh"
      },
      "execution_count": null,
      "outputs": []
    },
    {
      "cell_type": "code",
      "source": [
        "%config SqlMagic.autopandas = True\n",
        "%config SqlMagic.feedback = False\n",
        "%config SqlMagic.displaycon = False"
      ],
      "metadata": {
        "id": "_K1m-FVYdVmQ"
      },
      "execution_count": null,
      "outputs": []
    },
    {
      "cell_type": "code",
      "source": [
        "merged_data = pd.read_parquet(path='merged_data.parquet')"
      ],
      "metadata": {
        "id": "3NO4qR6odXQw"
      },
      "execution_count": null,
      "outputs": []
    },
    {
      "cell_type": "code",
      "source": [
        "convert_columns = ['original_coord', 'snapped_coord', 'osm_coord']\n",
        "for col in convert_columns:\n",
        "    merged_data[col] = merged_data[col].apply(wkt.loads)"
      ],
      "metadata": {
        "id": "vAGmKYbQUqJ1"
      },
      "execution_count": null,
      "outputs": []
    },
    {
      "cell_type": "code",
      "source": [
        "all_snap = gpd.GeoDataFrame(merged_data, geometry='snapped_coord', crs=\"EPSG:4326\")"
      ],
      "metadata": {
        "id": "ofxfDZZfWXVk"
      },
      "execution_count": null,
      "outputs": []
    },
    {
      "cell_type": "code",
      "source": [
        "selective_snap = all_snap.copy(deep=True)"
      ],
      "metadata": {
        "id": "bDrmWhSMZIXR"
      },
      "execution_count": null,
      "outputs": []
    },
    {
      "cell_type": "code",
      "source": [
        "categories_to_exclude = ['farm', 'lake', 'park', 'field', 'campground', 'river']\n",
        "selective_snap['snapped_coord'] = selective_snap.apply(lambda x: x['original_coord'] if any(cat in x['category'] for cat in categories_to_exclude) else x['snapped_coord'], axis=1)\n",
        "selective_snap['new_dist'] = selective_snap.apply(lambda x: x['old_dist'] if any(cat in x['category'] for cat in categories_to_exclude) else x['new_dist'], axis=1)"
      ],
      "metadata": {
        "id": "Dp8ZqV6WZtr1"
      },
      "execution_count": null,
      "outputs": []
    },
    {
      "cell_type": "code",
      "source": [
        "all_snap['diff'] = all_snap['new_dist'] - all_snap['old_dist']\n",
        "selective_snap['diff'] = selective_snap['new_dist'] - selective_snap['old_dist']"
      ],
      "metadata": {
        "id": "_33D05A9c96D"
      },
      "execution_count": null,
      "outputs": []
    },
    {
      "cell_type": "code",
      "source": [
        "print(all_snap['diff'].mean())\n",
        "print(selective_snap['diff'].mean())"
      ],
      "metadata": {
        "id": "I4WgDo6gdVNE"
      },
      "execution_count": null,
      "outputs": []
    }
  ]
}