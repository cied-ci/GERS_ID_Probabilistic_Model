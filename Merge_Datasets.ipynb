{
  "nbformat": 4,
  "nbformat_minor": 0,
  "metadata": {
    "colab": {
      "provenance": []
    },
    "kernelspec": {
      "name": "python3",
      "display_name": "Python 3"
    },
    "language_info": {
      "name": "python"
    }
  },
  "cells": [
    {
      "cell_type": "markdown",
      "source": [
        "This Python notebook merges the Overture data with the OSM data for ground truth verification purposes."
      ],
      "metadata": {
        "id": "UxF9Qv8XAz66"
      }
    },
    {
      "cell_type": "code",
      "execution_count": null,
      "metadata": {
        "id": "by5750zB7EJe"
      },
      "outputs": [],
      "source": [
        "!pip install pandas --quiet\n",
        "!pip install geopandas --quiet\n",
        "!pip install shapely --quiet\n",
        "!pip install duckdb --quiet\n",
        "!pip install jupysql --quiet\n",
        "!pip install duckdb-engine --quiet\n",
        "!pip install folium matplotlib mapclassify --quiet\n",
        "!pip install pyproj --quiet"
      ]
    },
    {
      "cell_type": "code",
      "source": [
        "import pandas as pd\n",
        "import geopandas as gpd\n",
        "import duckdb\n",
        "from shapely import wkt\n",
        "from shapely import Point\n",
        "from shapely.ops import nearest_points\n",
        "import shapely\n",
        "from pyproj import Transformer"
      ],
      "metadata": {
        "id": "hL9AMIPz8dkz"
      },
      "execution_count": null,
      "outputs": []
    },
    {
      "cell_type": "code",
      "source": [
        "%reload_ext sql"
      ],
      "metadata": {
        "id": "Jwl2i6tiAlaw"
      },
      "execution_count": null,
      "outputs": []
    },
    {
      "cell_type": "code",
      "source": [
        "%sql duckdb://"
      ],
      "metadata": {
        "id": "h4cufHB-ArRM"
      },
      "execution_count": null,
      "outputs": []
    },
    {
      "cell_type": "code",
      "source": [
        "%sql INSTALL spatial;\n",
        "%sql INSTALL httpfs;\n",
        "%sql LOAD spatial;\n",
        "%sql LOAD httpfs;\n",
        "%sql SET s3_region='us-west-2'"
      ],
      "metadata": {
        "id": "AhBUl0AgBhdY"
      },
      "execution_count": null,
      "outputs": []
    },
    {
      "cell_type": "code",
      "source": [
        "%config SqlMagic.autopandas = True\n",
        "%config SqlMagic.feedback = False\n",
        "%config SqlMagic.displaycon = False"
      ],
      "metadata": {
        "id": "5e955G2GRABP"
      },
      "execution_count": null,
      "outputs": []
    },
    {
      "cell_type": "code",
      "source": [
        "places = pd.read_parquet(path='santa_cruz_places_building_snap.parquet')"
      ],
      "metadata": {
        "id": "YFHMYEdr799F"
      },
      "execution_count": null,
      "outputs": []
    },
    {
      "cell_type": "code",
      "source": [
        "# List of all GERS IDs from the input file\n",
        "gers_ids_list = str(list(places['id'])).replace('[', '(').replace(']', ')')"
      ],
      "metadata": {
        "id": "CyeO7zdIWKGx"
      },
      "execution_count": null,
      "outputs": []
    },
    {
      "cell_type": "code",
      "source": [
        "%%sql\n",
        "COPY(\n",
        "    SELECT\n",
        "        id,\n",
        "        tags->>'name' AS name,\n",
        "        lat,\n",
        "        lon,\n",
        "        tags->>'place' AS place\n",
        "    FROM st_readosm('norcal-latest.osm.pbf')\n",
        "    WHERE lon BETWEEN -122.09 AND -121.91 AND\n",
        "          lat BETWEEN 36.93 AND 37.02\n",
        ") TO 'osm_nodes.parquet'"
      ],
      "metadata": {
        "id": "LCl98tIvnFcb"
      },
      "execution_count": null,
      "outputs": []
    },
    {
      "cell_type": "code",
      "source": [
        "%%sql\n",
        "COPY(\n",
        "WITH ways AS (\n",
        "    SELECT\n",
        "        id,\n",
        "        kind,\n",
        "        tags ->> 'name' AS name,\n",
        "        refs\n",
        "    FROM st_readosm('norcal-latest.osm.pbf')\n",
        "    WHERE kind = 'way'\n",
        "      AND name IS NOT NULL\n",
        "      AND array_length(refs) > 0\n",
        "),\n",
        "nodes AS (\n",
        "    SELECT\n",
        "        id\n",
        "    FROM 'osm_nodes.parquet'\n",
        ")\n",
        "SELECT\n",
        "    ways.name,\n",
        "    ways.refs\n",
        "FROM ways\n",
        "JOIN nodes ON nodes.id = ways.refs[1]\n",
        ") TO 'osm_ways.parquet'"
      ],
      "metadata": {
        "id": "uCqnjcCVC4vf"
      },
      "execution_count": null,
      "outputs": []
    },
    {
      "cell_type": "code",
      "source": [
        "# OpenStreetMaps 'ways' that contain a node in the bounding box\n",
        "ways = pd.read_parquet(path='osm_ways.parquet')"
      ],
      "metadata": {
        "id": "XNIOOFChp40_"
      },
      "execution_count": null,
      "outputs": []
    },
    {
      "cell_type": "code",
      "source": [
        "# OpenStreetMaps 'nodes' within the bounding box\n",
        "nodes = pd.read_parquet(path='osm_nodes.parquet')"
      ],
      "metadata": {
        "id": "CEe42PTtqzrk"
      },
      "execution_count": null,
      "outputs": []
    },
    {
      "cell_type": "code",
      "source": [
        "# Convert each way to a list of node locations\n",
        "ways['coords'] = ways.refs.apply(lambda x: [(nodes[nodes['id'] == v]['lat'].values[0], nodes[nodes['id'] == v]['lon'].values[0]) if len(nodes[nodes['id'] == v]['lat'].values) > 0 else None for v in x])\n",
        "ways['coords'] = ways.coords.apply(lambda x: None if None in x else x)"
      ],
      "metadata": {
        "id": "zr-GuKjFrU6j"
      },
      "execution_count": null,
      "outputs": []
    },
    {
      "cell_type": "code",
      "source": [
        "ways = ways.dropna()"
      ],
      "metadata": {
        "id": "-vflUs681nQ4"
      },
      "execution_count": null,
      "outputs": []
    },
    {
      "cell_type": "code",
      "source": [
        "# Find the centroid of the polygon for each 'way'\n",
        "ways['average_coord'] = ways.coords.apply(lambda x: shapely.centroid(shapely.Polygon(x + [x[0]])))\n",
        "ways['lon'] = ways.average_coord.apply(lambda x: x.y)\n",
        "ways['lat'] = ways.average_coord.apply(lambda y: y.x)"
      ],
      "metadata": {
        "id": "r1gzMCGHFjNa"
      },
      "execution_count": null,
      "outputs": []
    },
    {
      "cell_type": "code",
      "source": [
        "ways = ways.drop(['refs', 'average_coord', 'coords'], axis=1)"
      ],
      "metadata": {
        "id": "p8A7ZqE0IzhB"
      },
      "execution_count": null,
      "outputs": []
    },
    {
      "cell_type": "code",
      "source": [
        "nodes = nodes.drop('id', axis = 1)\n",
        "# Get rid of large place names such as 'Santa Cruz' or 'Capitola'. These have the potential to cause false matches.\n",
        "values_to_remove = ['city', 'town', 'suburb', 'village', 'hamlet']\n",
        "nodes = nodes[~nodes['place'].isin(values_to_remove)]\n",
        "nodes = nodes.drop('place', axis = 1)"
      ],
      "metadata": {
        "id": "Yhnat_21JNF4"
      },
      "execution_count": null,
      "outputs": []
    },
    {
      "cell_type": "code",
      "source": [
        "nodes = nodes.dropna()"
      ],
      "metadata": {
        "id": "u2GEZ3QcJT1-"
      },
      "execution_count": null,
      "outputs": []
    },
    {
      "cell_type": "code",
      "source": [
        "# Combine the ways and nodes into one table\n",
        "combined = pd.concat([ways, nodes], axis=0)\n",
        "combined.to_parquet(path='combined.parquet')"
      ],
      "metadata": {
        "id": "6Zn2Lq9cKoML"
      },
      "execution_count": null,
      "outputs": []
    },
    {
      "cell_type": "code",
      "source": [
        "query_string = f\"\"\"\n",
        "COPY (\n",
        "    WITH osm AS (\n",
        "        SELECT\n",
        "            name,\n",
        "            lat,\n",
        "            lon\n",
        "        FROM 'combined.parquet'\n",
        "        WHERE LEN(name) > 1\n",
        "    ),\n",
        "    overture AS (\n",
        "        SELECT\n",
        "            id,\n",
        "            names.primary AS name,\n",
        "            categories.primary AS category,\n",
        "            geometry AS geometry\n",
        "        FROM read_parquet('s3://overturemaps-us-west-2/release/2025-04-23.0/theme=places/*/*')\n",
        "        WHERE id IN {gers_ids_list}\n",
        "    )\n",
        "    SELECT\n",
        "        overture.id AS id,\n",
        "        overture.name AS name,\n",
        "        overture.category AS category,\n",
        "        osm.lon AS lon,\n",
        "        osm.lat AS lat\n",
        "    FROM overture\n",
        "        LEFT JOIN osm ON (\n",
        "            osm.name = overture.name\n",
        "            OR osm.name ilike concat('%', overture.name, '%')\n",
        "            OR overture.name ilike concat('%', osm.name, '%')\n",
        "            OR damerau_levenshtein(osm.name, overture.name) < 3\n",
        "        )\n",
        "        AND st_intersects(\n",
        "            st_buffer(overture.geometry::geometry, 0.003),\n",
        "            st_point(osm.lon, osm.lat)\n",
        "        )\n",
        ") TO 'ground_truth.parquet'\n",
        "\"\"\"\n",
        "\n",
        "%sql {{query_string}}"
      ],
      "metadata": {
        "id": "2SWhrvHTWyB3"
      },
      "execution_count": null,
      "outputs": []
    },
    {
      "cell_type": "code",
      "source": [
        "# Resulting dataframe from fuzzy string matching the Overture places with nearby OSM records (both ways and nodes)\n",
        "ground_truth = pd.read_parquet(path='ground_truth.parquet')"
      ],
      "metadata": {
        "id": "6kSf_IbXIDbw"
      },
      "execution_count": null,
      "outputs": []
    },
    {
      "cell_type": "code",
      "source": [
        "ground_truth = ground_truth.dropna()"
      ],
      "metadata": {
        "id": "zXEvVQ4xM9f-"
      },
      "execution_count": null,
      "outputs": []
    },
    {
      "cell_type": "code",
      "source": [
        "ground_truth = ground_truth.groupby('id').agg({\n",
        "    'lon': 'mean',\n",
        "    'lat': 'mean',\n",
        "    'name': 'first',\n",
        "    'category': 'first'\n",
        "}).reset_index()"
      ],
      "metadata": {
        "id": "4XHPJDi2IQIl"
      },
      "execution_count": null,
      "outputs": []
    },
    {
      "cell_type": "code",
      "source": [
        "ground_truth['original_coord'] = ground_truth.id.apply(lambda x: places[places['id'] == x]['geometry'].values[0])\n",
        "ground_truth['snapped_coord'] = ground_truth.id.apply(lambda x: places[places['id'] == x]['geometry_updated'].values[0])"
      ],
      "metadata": {
        "id": "n36OJE4TPV7F"
      },
      "execution_count": null,
      "outputs": []
    },
    {
      "cell_type": "code",
      "source": [
        "ground_truth['osm_coord'] = list(zip(ground_truth.lon, ground_truth.lat))\n",
        "ground_truth['osm_coord'] = ground_truth.osm_coord.apply(lambda x: shapely.Point(x))"
      ],
      "metadata": {
        "id": "z5UMKpjOREz_"
      },
      "execution_count": null,
      "outputs": []
    },
    {
      "cell_type": "code",
      "source": [
        "transformer = Transformer.from_crs(\"EPSG:4326\", \"EPSG:3857\", always_xy=True)\n",
        "ground_truth['original_projected'] = ground_truth.original_coord.apply(lambda point: Point(transformer.transform(wkt.loads(point).x, wkt.loads(point).y)))"
      ],
      "metadata": {
        "id": "8QD0hez8gEKM"
      },
      "execution_count": null,
      "outputs": []
    },
    {
      "cell_type": "code",
      "source": [
        "ground_truth['snapped_projected'] = ground_truth.snapped_coord.apply(lambda point: Point(transformer.transform(wkt.loads(point).x, wkt.loads(point).y)))"
      ],
      "metadata": {
        "id": "xx9O-k8chOyK"
      },
      "execution_count": null,
      "outputs": []
    },
    {
      "cell_type": "code",
      "source": [
        "ground_truth['osm_projected'] = ground_truth.osm_coord.apply(lambda point: Point(transformer.transform(point.x, point.y)))"
      ],
      "metadata": {
        "id": "E9jKf-lChhOT"
      },
      "execution_count": null,
      "outputs": []
    },
    {
      "cell_type": "code",
      "source": [
        "# Distance between original and OSM, in meters\n",
        "ground_truth['old_dist'] = ground_truth.apply(lambda x: shapely.distance(x['original_projected'], x['osm_projected']), axis=1)"
      ],
      "metadata": {
        "id": "NbpRB1nZRx4t"
      },
      "execution_count": null,
      "outputs": []
    },
    {
      "cell_type": "code",
      "source": [
        "# Distance between snapped and OSM, in meters\n",
        "ground_truth['new_dist'] = ground_truth.apply(lambda x: shapely.distance(x['snapped_projected'], x['osm_projected']), axis=1)"
      ],
      "metadata": {
        "id": "T33V6KrdUQrB"
      },
      "execution_count": null,
      "outputs": []
    },
    {
      "cell_type": "code",
      "source": [
        "# Distance between original and snapped points, in meters\n",
        "ground_truth['delta_dist'] = ground_truth.apply(lambda x: shapely.distance(x['snapped_projected'], x['original_projected']), axis=1)"
      ],
      "metadata": {
        "id": "B4kY3slPgMhw"
      },
      "execution_count": null,
      "outputs": []
    },
    {
      "cell_type": "code",
      "source": [
        "# True or false representing whether snapping the point improved it\n",
        "ground_truth['improved_by_snap'] = ground_truth.apply(lambda x: x['new_dist'] < x['old_dist'], axis=1)"
      ],
      "metadata": {
        "id": "BaSqEPCVgkoM"
      },
      "execution_count": null,
      "outputs": []
    },
    {
      "cell_type": "code",
      "source": [
        "ground_truth = ground_truth.merge(places[['id', 'crossed']], on='id', how='left')"
      ],
      "metadata": {
        "id": "_a4v2zgOd8Os"
      },
      "execution_count": null,
      "outputs": []
    },
    {
      "cell_type": "code",
      "source": [
        "ground_truth['osm_coord'] = ground_truth['osm_coord'].apply(lambda x: x.wkt)\n",
        "ground_truth = ground_truth.drop(['lon', 'lat', 'original_projected', 'snapped_projected', 'osm_projected'], axis=1)"
      ],
      "metadata": {
        "id": "1AdipZwvpAK5"
      },
      "execution_count": null,
      "outputs": []
    },
    {
      "cell_type": "code",
      "source": [
        "ground_truth.to_csv(path_or_buf='merged_data.csv')\n",
        "ground_truth.to_parquet(path='merged_data.parquet')"
      ],
      "metadata": {
        "id": "ACBg-UmmhU7K"
      },
      "execution_count": null,
      "outputs": []
    }
  ]
}