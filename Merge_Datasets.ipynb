{
  "nbformat": 4,
  "nbformat_minor": 0,
  "metadata": {
    "colab": {
      "provenance": []
    },
    "kernelspec": {
      "name": "python3",
      "display_name": "Python 3"
    },
    "language_info": {
      "name": "python"
    }
  },
  "cells": [
    {
      "cell_type": "markdown",
      "source": [
        "This Python notebook takes a subset of POIs in Downtown Santa Cruz, and moves each one to the closest building."
      ],
      "metadata": {
        "id": "UxF9Qv8XAz66"
      }
    },
    {
      "cell_type": "code",
      "execution_count": null,
      "metadata": {
        "id": "by5750zB7EJe"
      },
      "outputs": [],
      "source": [
        "!pip install pandas --quiet\n",
        "!pip install geopandas --quiet\n",
        "!pip install shapely --quiet\n",
        "!pip install duckdb --quiet\n",
        "!pip install jupysql --quiet\n",
        "!pip install duckdb-engine --quiet\n",
        "!pip install folium matplotlib mapclassify --quiet"
      ]
    },
    {
      "cell_type": "code",
      "source": [
        "import pandas as pd\n",
        "import geopandas as gpd\n",
        "import duckdb\n",
        "from shapely import wkt\n",
        "from shapely import Point\n",
        "from shapely.ops import nearest_points\n",
        "import shapely"
      ],
      "metadata": {
        "id": "hL9AMIPz8dkz"
      },
      "execution_count": null,
      "outputs": []
    },
    {
      "cell_type": "code",
      "source": [
        "%reload_ext sql"
      ],
      "metadata": {
        "id": "Jwl2i6tiAlaw"
      },
      "execution_count": null,
      "outputs": []
    },
    {
      "cell_type": "code",
      "source": [
        "%sql duckdb://"
      ],
      "metadata": {
        "id": "h4cufHB-ArRM"
      },
      "execution_count": null,
      "outputs": []
    },
    {
      "cell_type": "code",
      "source": [
        "%sql INSTALL spatial;\n",
        "%sql INSTALL httpfs;\n",
        "%sql LOAD spatial;\n",
        "%sql LOAD httpfs;\n",
        "%sql SET s3_region='us-west-2'"
      ],
      "metadata": {
        "id": "AhBUl0AgBhdY"
      },
      "execution_count": null,
      "outputs": []
    },
    {
      "cell_type": "code",
      "source": [
        "%config SqlMagic.autopandas = True\n",
        "%config SqlMagic.feedback = False\n",
        "%config SqlMagic.displaycon = False"
      ],
      "metadata": {
        "id": "5e955G2GRABP"
      },
      "execution_count": null,
      "outputs": []
    },
    {
      "cell_type": "code",
      "source": [
        "places = gpd.read_parquet(path='santa_cruz_places_building_snap.parquet')"
      ],
      "metadata": {
        "id": "YFHMYEdr799F"
      },
      "execution_count": null,
      "outputs": []
    },
    {
      "cell_type": "code",
      "source": [
        "gers_ids_list = str(list(places['id'])).replace('[', '(').replace(']', ')')"
      ],
      "metadata": {
        "id": "CyeO7zdIWKGx"
      },
      "execution_count": null,
      "outputs": []
    },
    {
      "cell_type": "code",
      "source": [
        "%%sql\n",
        "COPY(\n",
        "    SELECT\n",
        "        id,\n",
        "        tags->>'name' AS name,\n",
        "        lat,\n",
        "        lon\n",
        "    FROM st_readosm('norcal-latest.osm.pbf')\n",
        "    WHERE lon BETWEEN -122.09 AND -121.91 AND\n",
        "          lat BETWEEN 36.93 AND 37.02\n",
        ") TO 'osm_nodes.parquet'"
      ],
      "metadata": {
        "id": "LCl98tIvnFcb"
      },
      "execution_count": null,
      "outputs": []
    },
    {
      "cell_type": "code",
      "source": [
        "%%sql\n",
        "COPY(\n",
        "WITH ways AS (\n",
        "    SELECT\n",
        "        id,\n",
        "        kind,\n",
        "        tags ->> 'name' AS name,\n",
        "        refs\n",
        "    FROM st_readosm('norcal-latest.osm.pbf')\n",
        "    WHERE kind = 'way'\n",
        "      AND name IS NOT NULL\n",
        "      AND array_length(refs) > 0\n",
        "),\n",
        "nodes AS (\n",
        "    SELECT\n",
        "        id\n",
        "    FROM 'osm_nodes.parquet'\n",
        ")\n",
        "SELECT\n",
        "    ways.name,\n",
        "    ways.refs\n",
        "FROM ways\n",
        "JOIN nodes ON nodes.id = ways.refs[1]\n",
        ") TO 'osm_ways.parquet'"
      ],
      "metadata": {
        "id": "uCqnjcCVC4vf"
      },
      "execution_count": null,
      "outputs": []
    },
    {
      "cell_type": "code",
      "source": [
        "ways = pd.read_parquet(path='osm_ways.parquet')\n",
        "ways"
      ],
      "metadata": {
        "id": "XNIOOFChp40_"
      },
      "execution_count": null,
      "outputs": []
    },
    {
      "cell_type": "code",
      "source": [
        "nodes = pd.read_parquet(path='osm_nodes.parquet')\n",
        "nodes"
      ],
      "metadata": {
        "id": "CEe42PTtqzrk"
      },
      "execution_count": null,
      "outputs": []
    },
    {
      "cell_type": "code",
      "source": [
        "ways['lat'] = ways.refs.apply(lambda x: [(nodes[nodes['id'] == v]['lat'].values[0], nodes[nodes['id'] == v]['lon'].values[0]) if len(nodes[nodes['id'] == v]['lat'].values) > 0 else None for v in x])"
      ],
      "metadata": {
        "id": "zr-GuKjFrU6j"
      },
      "execution_count": null,
      "outputs": []
    },
    {
      "cell_type": "code",
      "source": [
        "ways['lat'] = ways.lat.apply(lambda x: None if None in x else x)"
      ],
      "metadata": {
        "id": "0lkEq1LN00HF"
      },
      "execution_count": null,
      "outputs": []
    },
    {
      "cell_type": "code",
      "source": [
        "ways = ways.dropna()\n",
        "ways"
      ],
      "metadata": {
        "id": "-vflUs681nQ4"
      },
      "execution_count": null,
      "outputs": []
    },
    {
      "cell_type": "code",
      "source": [
        "ways['average'] = ways.lat.apply(lambda x: shapely.centroid(shapely.Polygon(x + [x[0]])))"
      ],
      "metadata": {
        "id": "r1gzMCGHFjNa"
      },
      "execution_count": null,
      "outputs": []
    },
    {
      "cell_type": "code",
      "source": [
        "ways['lon'] = ways.average.apply(lambda x: x.y)"
      ],
      "metadata": {
        "id": "q4CrTnCfGmc5"
      },
      "execution_count": null,
      "outputs": []
    },
    {
      "cell_type": "code",
      "source": [
        "ways['lat'] = ways.average.apply(lambda y: y.x)"
      ],
      "metadata": {
        "id": "xGfQWHrAInOi"
      },
      "execution_count": null,
      "outputs": []
    },
    {
      "cell_type": "code",
      "source": [
        "ways = ways.drop(['refs', 'average'], axis=1)"
      ],
      "metadata": {
        "id": "p8A7ZqE0IzhB"
      },
      "execution_count": null,
      "outputs": []
    },
    {
      "cell_type": "code",
      "source": [
        "ways"
      ],
      "metadata": {
        "id": "8ULvbRaDJGD1"
      },
      "execution_count": null,
      "outputs": []
    },
    {
      "cell_type": "code",
      "source": [
        "nodes = nodes.drop('id', axis = 1)"
      ],
      "metadata": {
        "id": "Yhnat_21JNF4"
      },
      "execution_count": null,
      "outputs": []
    },
    {
      "cell_type": "code",
      "source": [
        "nodes = nodes.dropna()"
      ],
      "metadata": {
        "id": "u2GEZ3QcJT1-"
      },
      "execution_count": null,
      "outputs": []
    },
    {
      "cell_type": "code",
      "source": [
        "combined = pd.concat([ways, nodes], axis=0)"
      ],
      "metadata": {
        "id": "6Zn2Lq9cKoML"
      },
      "execution_count": null,
      "outputs": []
    },
    {
      "cell_type": "code",
      "source": [
        "combined.to_parquet(path='combined.parquet')"
      ],
      "metadata": {
        "id": "2KUBsMlXK4dL"
      },
      "execution_count": null,
      "outputs": []
    },
    {
      "cell_type": "code",
      "source": [
        "query_string = f\"\"\"\n",
        "COPY (\n",
        "    WITH osm AS (\n",
        "        SELECT\n",
        "            name,\n",
        "            lat,\n",
        "            lon\n",
        "        FROM 'combined.parquet'\n",
        "    ),\n",
        "    overture AS (\n",
        "        SELECT\n",
        "            id,\n",
        "            names.primary AS name,\n",
        "            geometry AS geometry\n",
        "        FROM read_parquet('s3://overturemaps-us-west-2/release/2025-04-23.0/theme=places/*/*')\n",
        "        WHERE id IN {gers_ids_list}\n",
        "    )\n",
        "    SELECT\n",
        "        overture.id AS overture_id,\n",
        "        overture.name AS overture_name,\n",
        "        osm.name AS osm_name,\n",
        "        osm.lon AS lon,\n",
        "        osm.lat AS lat\n",
        "    FROM overture\n",
        "        LEFT JOIN osm ON (\n",
        "            osm.name = overture.name\n",
        "            OR osm.name ilike concat('%', overture.name, '%')\n",
        "            OR overture.name ilike concat('%', osm.name, '%')\n",
        "            OR damerau_levenshtein(osm.name, overture.name) < 3\n",
        "        )\n",
        "        AND st_intersects(\n",
        "            st_buffer(overture.geometry::geometry, 0.003),\n",
        "            st_point(osm.lon, osm.lat)\n",
        "        )\n",
        ") TO 'ground_truth.parquet'\n",
        "\"\"\"\n",
        "\n",
        "%sql {{query_string}}"
      ],
      "metadata": {
        "id": "2SWhrvHTWyB3"
      },
      "execution_count": null,
      "outputs": []
    },
    {
      "cell_type": "code",
      "source": [
        "ground_truth = pd.read_parquet(path='ground_truth.parquet')"
      ],
      "metadata": {
        "id": "6kSf_IbXIDbw"
      },
      "execution_count": null,
      "outputs": []
    },
    {
      "cell_type": "code",
      "source": [
        "ground_truth[ground_truth['osm_name'] == 'Safeway']"
      ],
      "metadata": {
        "id": "97WIvANx5Vsv"
      },
      "execution_count": null,
      "outputs": []
    },
    {
      "cell_type": "code",
      "source": [
        "ground_truth[ground_truth['osm_name'] == 'Pizza My Heart']"
      ],
      "metadata": {
        "id": "d8s0wSHiRNzP"
      },
      "execution_count": null,
      "outputs": []
    },
    {
      "cell_type": "code",
      "source": [
        "ground_truth.groupby('id').mean().reset_index()"
      ],
      "metadata": {
        "id": "4XHPJDi2IQIl"
      },
      "execution_count": null,
      "outputs": []
    },
    {
      "cell_type": "code",
      "source": [
        "# Convert places data to GeoFrame for getting places in Point format\n",
        "places = gpd.GeoDataFrame(\n",
        "    places,\n",
        "    geometry=places['geometry'].apply(wkt.loads),\n",
        "    crs=\"EPSG:4326\"\n",
        ")"
      ],
      "metadata": {
        "id": "efRfkR1bD1US"
      },
      "execution_count": null,
      "outputs": []
    }
  ]
}