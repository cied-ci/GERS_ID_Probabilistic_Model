{
  "nbformat": 4,
  "nbformat_minor": 0,
  "metadata": {
    "colab": {
      "provenance": []
    },
    "kernelspec": {
      "name": "python3",
      "display_name": "Python 3"
    },
    "language_info": {
      "name": "python"
    }
  },
  "cells": [
    {
      "cell_type": "markdown",
      "source": [
        "This Python notebook trains a Logistic Regression model to predict whether a given Overture point should or should not be snapped to its nearest building."
      ],
      "metadata": {
        "id": "lgXUviqCgRvm"
      }
    },
    {
      "cell_type": "code",
      "execution_count": null,
      "metadata": {
        "id": "AEENwR4qr9Mf"
      },
      "outputs": [],
      "source": [
        "!pip install scikit-learn --quiet\n",
        "!pip install pandas --quiet\n",
        "import pandas as pd\n",
        "from sklearn.linear_model import LogisticRegression\n",
        "from sklearn.model_selection import train_test_split\n",
        "from sklearn.metrics import accuracy_score\n",
        "import sklearn\n",
        "import math"
      ]
    },
    {
      "cell_type": "code",
      "source": [
        "merged = pd.read_parquet(path='merged_data.parquet')"
      ],
      "metadata": {
        "id": "unoL3HXJuMgJ"
      },
      "execution_count": null,
      "outputs": []
    },
    {
      "cell_type": "code",
      "source": [
        "merged = merged.drop(['name', 'original_coord', 'snapped_coord', 'osm_coord', 'old_dist', 'new_dist'], axis=1)"
      ],
      "metadata": {
        "id": "0nBrKyfxul21"
      },
      "execution_count": null,
      "outputs": []
    },
    {
      "cell_type": "code",
      "source": [
        "# Each of the following is a column, representing how many roads of that type would be crossed if the point was snapped\n",
        "road_columns = ['bridleway', 'cycleway', 'footway', 'living_street', 'motorway', 'path', 'pedestrian', 'primary', 'residential', 'secondary', 'service', 'steps', 'tertiary', 'track', 'trunk', 'unclassified', 'unknown']\n",
        "merged[road_columns] = 0"
      ],
      "metadata": {
        "id": "ce5KtNPXwVBf"
      },
      "execution_count": null,
      "outputs": []
    },
    {
      "cell_type": "code",
      "source": [
        "def convert_list_to_columns(row):\n",
        "    counts = pd.Series(row['crossed']).value_counts()\n",
        "    for tag, count in counts.items():\n",
        "        if tag in row.index:\n",
        "            row[tag] = count\n",
        "    return row\n",
        "\n",
        "merged = merged.apply(convert_list_to_columns, axis=1)"
      ],
      "metadata": {
        "id": "NNBOaNp6yYPY"
      },
      "execution_count": null,
      "outputs": []
    },
    {
      "cell_type": "code",
      "source": [
        "# Each of the following is a column, representing certain key categories that tend not to have buildings associated with them.\n",
        "key_categories = ['farm', 'lake', 'park', 'field', 'campground', 'river']\n",
        "merged[key_categories] = 0"
      ],
      "metadata": {
        "id": "ht_c-pXkz72C"
      },
      "execution_count": null,
      "outputs": []
    },
    {
      "cell_type": "code",
      "source": [
        "def category_substring(row):\n",
        "    for i in range(len(key_categories)):\n",
        "        if key_categories[i] in row['category']:\n",
        "            row[key_categories[i]] += 1\n",
        "\n",
        "    return row\n",
        "\n",
        "merged = merged.apply(category_substring, axis=1)"
      ],
      "metadata": {
        "id": "eMwpF2gt3F_t"
      },
      "execution_count": null,
      "outputs": []
    },
    {
      "cell_type": "code",
      "source": [
        "# The 'y' values\n",
        "merged['label'] = merged.improved_by_snap.apply(lambda x: 1 if x else 0)"
      ],
      "metadata": {
        "id": "a-MMHeXk30ir"
      },
      "execution_count": null,
      "outputs": []
    },
    {
      "cell_type": "code",
      "source": [
        "merged = merged.drop(['category', 'improved_by_snap', 'crossed'], axis=1)"
      ],
      "metadata": {
        "id": "71aNoYGc4K9n"
      },
      "execution_count": null,
      "outputs": []
    },
    {
      "cell_type": "code",
      "source": [
        "X = merged.drop(['label', 'id'], axis=1).values\n",
        "y = merged['label'].values"
      ],
      "metadata": {
        "id": "xDYJSFUe4TUA"
      },
      "execution_count": null,
      "outputs": []
    },
    {
      "cell_type": "code",
      "source": [
        "# Save this so can merge model predictions back with the original data table (based on id)\n",
        "id_col = merged['id']"
      ],
      "metadata": {
        "id": "8lPVd66yJjGS"
      },
      "execution_count": null,
      "outputs": []
    },
    {
      "cell_type": "code",
      "source": [
        "X_train, X_test, y_train, y_test, id_train, id_test = train_test_split(X, y, id_col, test_size=0.25)"
      ],
      "metadata": {
        "id": "Ssx2O2H9JcPP"
      },
      "execution_count": null,
      "outputs": []
    },
    {
      "cell_type": "code",
      "source": [
        "model = LogisticRegression(max_iter=1000)\n",
        "\n",
        "model.fit(X_train, y_train)\n",
        "\n",
        "y_pred = logreg.predict(X_test)"
      ],
      "metadata": {
        "id": "-Zn3cUPA4258"
      },
      "execution_count": null,
      "outputs": []
    },
    {
      "cell_type": "code",
      "source": [
        "sklearn.metrics.accuracy_score(y_test, y_pred)"
      ],
      "metadata": {
        "id": "dAguELTQQIIZ"
      },
      "execution_count": null,
      "outputs": []
    },
    {
      "cell_type": "code",
      "source": [
        "results = pd.DataFrame({\n",
        "    'id': id_test,\n",
        "    'actual': y_test,\n",
        "    'prediction': y_pred\n",
        "}).reset_index(drop=True)"
      ],
      "metadata": {
        "id": "6yDl4mKTKhzN"
      },
      "execution_count": null,
      "outputs": []
    },
    {
      "cell_type": "code",
      "source": [
        "# Create a new table for the test set\n",
        "original_data = pd.read_parquet(path='merged_data.parquet')\n",
        "merged_results = results.merge(original_data, on='id', how='left')"
      ],
      "metadata": {
        "id": "UOjvEw7eK47-"
      },
      "execution_count": null,
      "outputs": []
    },
    {
      "cell_type": "code",
      "source": [
        "merged_results['model_dist'] = merged_results.apply(lambda x: x['new_dist'] if x['prediction'] == 1 else x['old_dist'], axis=1)"
      ],
      "metadata": {
        "id": "k_Wc0PPLNIjb"
      },
      "execution_count": null,
      "outputs": []
    },
    {
      "cell_type": "code",
      "source": [
        "print(merged_results['old_dist'].mean())\n",
        "print(merged_results['new_dist'].mean())\n",
        "print(merged_results['model_dist'].mean())"
      ],
      "metadata": {
        "id": "_88xo_I7M1IP"
      },
      "execution_count": null,
      "outputs": []
    },
    {
      "cell_type": "code",
      "source": [
        "merged_results['log_ratio'] = merged_results.apply(lambda x: math.log((x['old_dist'] + 0.001) / (x['model_dist'] + 0.001)), axis=1)"
      ],
      "metadata": {
        "id": "pkblTTnBN0rf"
      },
      "execution_count": null,
      "outputs": []
    },
    {
      "cell_type": "code",
      "source": [
        "merged_results['log_ratio_all'] = merged_results.apply(lambda x: math.log((x['old_dist'] + 0.001) / (x['new_dist'] + 0.001)), axis=1)"
      ],
      "metadata": {
        "id": "c6gyl_bgOIcC"
      },
      "execution_count": null,
      "outputs": []
    },
    {
      "cell_type": "code",
      "source": [
        "print(merged_results['log_ratio'].mean())\n",
        "print(merged_results['log_ratio_all'].mean())"
      ],
      "metadata": {
        "id": "LGGjDxqkNfHk"
      },
      "execution_count": null,
      "outputs": []
    }
  ]
}